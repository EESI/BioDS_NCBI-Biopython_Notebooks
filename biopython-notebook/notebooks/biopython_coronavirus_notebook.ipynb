{
 "cells": [
  {
   "cell_type": "markdown",
   "metadata": {
    "id": "IDFmwfV9dwas"
   },
   "source": [
    "# Biopython coronavirus notebook tutorial"
   ]
  },
  {
   "cell_type": "markdown",
   "metadata": {
    "id": "fGzynZZ0dwau"
   },
   "source": [
    "This basic tutorial shows you how to identify an \"Unknown sequence\" of DNA/RNA, which happens to derive from a cornavirus genome (spoiler alert!). This tutorial uses [Biopython](https://github.com/biopython/biopython) (calling some tools) to identify and start to characterize this sequence."
   ]
  },
  {
   "cell_type": "markdown",
   "metadata": {
    "id": "oCq-RKBVdwau"
   },
   "source": [
    "## Setup"
   ]
  },
  {
   "cell_type": "markdown",
   "metadata": {
    "id": "RafSF7jGdwav"
   },
   "source": [
    "Imports and print version information"
   ]
  },
  {
   "cell_type": "code",
   "execution_count": 10,
   "metadata": {
    "collapsed": false,
    "id": "KSaWtepmdwaw",
    "outputId": "46fca23f-3d86-41c7-e462-09f501bc8814"
   },
   "outputs": [],
   "source": [
    "# Taken from https://colab.research.google.com/github/chris-rands/biopython-coronavirus/blob/master/biopython-coronavirus-notebook.ipynb"
   ]
  },
  {
   "cell_type": "code",
   "execution_count": null,
   "metadata": {
    "collapsed": true
   },
   "outputs": [],
   "source": [
    "import os\n",
    "import sys\n",
    "\n",
    "from urllib.request import urlretrieve\n",
    "\n",
    "import Bio\n",
    "from Bio import SeqIO, SearchIO, Entrez\n",
    "from Bio.Seq import Seq\n",
    "from Bio.SeqUtils import GC\n",
    "from Bio.Blast import NCBIWWW\n",
    "from Bio.Data import CodonTable\n",
    "\n",
    "print(\"Python version:\", sys.version_info)\n",
    "print(\"Biopython version:\", Bio.__version__)"
   ]
  },
  {
   "cell_type": "markdown",
   "metadata": {
    "id": "CHxZwERAdwax"
   },
   "source": [
    "Input file"
   ]
  },
  {
   "cell_type": "code",
   "execution_count": 2,
   "metadata": {
    "collapsed": true,
    "id": "ZNFxB38Zdwax"
   },
   "outputs": [],
   "source": [
    "input_file = \"unknown-sequence.fa\"\n",
    "\n",
    "fasta_loc = (\"https://raw.githubusercontent.com/chris-rands/\"\n",
    "             \"biopython-coronavirus/master/unknown-sequence.fa\")\n",
    "\n",
    "if not os.path.exists(input_file):\n",
    "    urlretrieve(fasta_loc, input_file)"
   ]
  },
  {
   "cell_type": "markdown",
   "metadata": {
    "id": "_QL7spEXdway"
   },
   "source": [
    "## Basic genome properties"
   ]
  },
  {
   "cell_type": "code",
   "execution_count": 3,
   "metadata": {
    "collapsed": false,
    "id": "wkIgT33Ddway",
    "outputId": "f5f2b01e-eace-440c-cc5c-5357296e5a01"
   },
   "outputs": [
    {
     "name": "stdout",
     "output_type": "stream",
     "text": [
      "Unknown_sequence\n"
     ]
    }
   ],
   "source": [
    "for record in SeqIO.parse(input_file, \"fasta\"):\n",
    "    print(record.id)"
   ]
  },
  {
   "cell_type": "markdown",
   "metadata": {
    "id": "VFE6UB9qdwaz"
   },
   "source": [
    "There is just a single sequence with header \"Unknown_sequence\". We are not dealing with many chromosomes, scaffolds or contigs."
   ]
  },
  {
   "cell_type": "markdown",
   "metadata": {
    "id": "NoN_XFr1dwaz"
   },
   "source": [
    "Extract the sequence"
   ]
  },
  {
   "cell_type": "code",
   "execution_count": 7,
   "metadata": {
    "collapsed": true,
    "id": "-az88b5mdwaz"
   },
   "outputs": [],
   "source": [
    "record = SeqIO.read(input_file, \"fasta\")"
   ]
  },
  {
   "cell_type": "code",
   "execution_count": 8,
   "metadata": {
    "collapsed": false,
    "id": "l6XN5v5vdwa0",
    "outputId": "e818a6c6-2c7b-4aad-b3ef-5f4e9db2d31b"
   },
   "outputs": [
    {
     "data": {
      "text/plain": [
       "Seq('ATTAAAGGTTTATACCTTCCCAGGTAACAAACCAACCAACTTTCGATCTCTTGT...AAA', SingleLetterAlphabet())"
      ]
     },
     "execution_count": 8,
     "metadata": {},
     "output_type": "execute_result"
    }
   ],
   "source": [
    "#https://biopython.org/docs/1.75/api/Bio.Alphabet.html\n",
    "record.seq"
   ]
  },
  {
   "cell_type": "code",
   "execution_count": 9,
   "metadata": {
    "collapsed": false,
    "id": "hemzd3sjdwa0",
    "outputId": "7ae1bf65-e29c-4fdc-df39-b2c4141541f2"
   },
   "outputs": [
    {
     "name": "stdout",
     "output_type": "stream",
     "text": [
      "Sequence length (bp) 29903\n"
     ]
    }
   ],
   "source": [
    "print(\"Sequence length (bp)\", len(record))"
   ]
  },
  {
   "cell_type": "markdown",
   "metadata": {
    "id": "z1Uh-f_tdwa0"
   },
   "source": [
    "The sequence length is ~30Kb, if this sequence represents an individual organism then it is very small. Far too small for a typical eukaryote and in fact too short many microbes too (e.g. bacterial genomes are typically Mb). This indicates that the genome could be from a virus."
   ]
  },
  {
   "cell_type": "code",
   "execution_count": null,
   "metadata": {
    "collapsed": false,
    "id": "dP5Jx1G5dwa0",
    "outputId": "8b988734-93d2-4409-8c3a-71273320ad86"
   },
   "outputs": [
    {
     "name": "stdout",
     "output_type": "stream",
     "text": [
      "GC content (%) 37.97277865097148\n"
     ]
    }
   ],
   "source": [
    "print(\"GC content (%)\", GC(record.seq))"
   ]
  },
  {
   "cell_type": "markdown",
   "metadata": {
    "id": "06vHTkbwdwa1"
   },
   "source": [
    "The GC content is 0.38, so the sequence is somewhat AT-rich, but within a 'normal' range."
   ]
  },
  {
   "cell_type": "markdown",
   "metadata": {
    "id": "r5iWfm_Kdwa1"
   },
   "source": [
    "## Compare to other genome sequences"
   ]
  },
  {
   "cell_type": "markdown",
   "metadata": {
    "id": "5UEjrMXjdwa1"
   },
   "source": [
    "Let's use BLAST to align the unknown sequence to other annoated sequences in the NCBI nt database, which contains sequences from many different species from accross the tree of life.\n",
    "\n",
    "This may take ~10 minutes since we are doing an online search against many sequences (for larger queries, it would sensible to run BLAST locally instead; see `Bio.Blast.Applications`)"
   ]
  },
  {
   "cell_type": "code",
   "execution_count": null,
   "metadata": {
    "collapsed": false,
    "id": "iD0DsL_4dwa1",
    "outputId": "60953956-59b2-49b5-b85c-76d3db983e79"
   },
   "outputs": [
    {
     "name": "stdout",
     "output_type": "stream",
     "text": [
      "CPU times: user 155 ms, sys: 69 ms, total: 224 ms\n",
      "Wall time: 2min 5s\n"
     ]
    }
   ],
   "source": [
    "%%time\n",
    "result_handle = NCBIWWW.qblast(\"blastn\", \"nt\", record.seq)"
   ]
  },
  {
   "cell_type": "markdown",
   "metadata": {
    "id": "CRH_LZuodwa1"
   },
   "source": [
    "Let's process the results with one of Biopython's generic parser"
   ]
  },
  {
   "cell_type": "code",
   "execution_count": null,
   "metadata": {
    "collapsed": true,
    "id": "zWshEW3edwa2"
   },
   "outputs": [],
   "source": [
    "blast_qresult = SearchIO.read(result_handle, \"blast-xml\")"
   ]
  },
  {
   "cell_type": "code",
   "execution_count": null,
   "metadata": {
    "collapsed": false,
    "id": "W4q0-Rxsdwa2",
    "outputId": "263ebac5-4f51-4455-ce1f-bf36c5c325c8"
   },
   "outputs": [
    {
     "name": "stdout",
     "output_type": "stream",
     "text": [
      "Program: blastn (2.10.0+)\n",
      "  Query: No (29903)\n",
      "         definition line\n",
      " Target: nt\n",
      "   Hits: ----  -----  ----------------------------------------------------------\n",
      "            #  # HSP  ID + description\n",
      "         ----  -----  ----------------------------------------------------------\n",
      "            0      1  gi|1798174254|ref|NC_045512.2|  Wuhan seafood market pn...\n",
      "            1      1  gi|1805293633|gb|MT019531.1|  Severe acute respiratory ...\n",
      "            2      1  gi|1805293611|gb|MT019529.1|  Severe acute respiratory ...\n",
      "            3      1  gi|1802633808|gb|MN996528.1|  Severe acute respiratory ...\n",
      "            4      1  gi|1808633715|gb|MT049951.1|  Severe acute respiratory ...\n",
      "            5      1  gi|1805293644|gb|MT019532.1|  Severe acute respiratory ...\n",
      "            6      1  gi|1800455117|gb|MN988668.1|  Severe acute respiratory ...\n",
      "            7      1  gi|1807860439|gb|MT039890.1|  Severe acute respiratory ...\n",
      "            8      1  gi|1805293655|gb|MT019533.1|  Severe acute respiratory ...\n",
      "            9      1  gi|1812779165|gb|MT118835.1|  Severe acute respiratory ...\n",
      "           10      1  gi|1812103009|gb|MT106053.1|  Severe acute respiratory ...\n",
      "           11      1  gi|1800242661|gb|MN975262.1|  Severe acute respiratory ...\n",
      "           12      1  gi|1802471970|gb|MN994468.1|  Severe acute respiratory ...\n",
      "           13      1  gi|1806553209|gb|MT027064.1|  Severe acute respiratory ...\n",
      "           14      1  gi|1815410662|gb|MT123290.1|  Severe acute respiratory ...\n",
      "           15      1  gi|1806553187|gb|MT027062.1|  Severe acute respiratory ...\n",
      "           16      1  gi|1800408777|gb|MN985325.1|  Severe acute respiratory ...\n",
      "           17      1  gi|1805293622|gb|MT019530.1|  Severe acute respiratory ...\n",
      "           18      1  gi|1803016604|gb|MT007544.1|  Severe acute respiratory ...\n",
      "           19      1  gi|1815410673|gb|MT123291.1|  Severe acute respiratory ...\n",
      "           20      1  gi|1812102998|gb|MT106052.1|  Severe acute respiratory ...\n",
      "           21      1  gi|1802498786|gb|MN997409.1|  Severe acute respiratory ...\n",
      "           22      1  gi|1807860452|gb|MT039887.1|  Severe acute respiratory ...\n",
      "           23      1  gi|1807860463|gb|MT039888.1|  Severe acute respiratory ...\n",
      "           24      1  gi|1800489756|gb|MN988713.1|  Severe acute respiratory ...\n",
      "           25      1  gi|1811294619|gb|MT093571.1|  Severe acute respiratory ...\n",
      "           26      1  gi|1807816337|dbj|LC522974.1|  Severe acute respiratory...\n",
      "           27      1  gi|1807816315|dbj|LC522972.1|  Severe acute respiratory...\n",
      "           28      1  gi|1804153870|emb|LR757996.1|  Wuhan seafood market pne...\n",
      "           29      1  gi|1804153869|emb|LR757995.1|  Wuhan seafood market pne...\n",
      "           ~~~\n",
      "           47      1  gi|1800242639|gb|MN938384.1|  Severe acute respiratory ...\n",
      "           48      1  gi|1802633797|gb|MN996527.1|  Severe acute respiratory ...\n",
      "           49      1  gi|1810678290|gb|MT072688.1|  Severe acute respiratory ...\n"
     ]
    }
   ],
   "source": [
    "print(blast_qresult)"
   ]
  },
  {
   "cell_type": "markdown",
   "metadata": {
    "id": "-RPzKEZBdwa2"
   },
   "source": [
    "Those descriptions are truncated, let's view them in full, for just the first 5 records"
   ]
  },
  {
   "cell_type": "code",
   "execution_count": null,
   "metadata": {
    "collapsed": false,
    "id": "pMo7glRVdwa2",
    "outputId": "3adb6714-6d9c-464f-9be2-4a2c35ac0d7c"
   },
   "outputs": [
    {
     "data": {
      "text/plain": [
       "['Wuhan seafood market pneumonia virus isolate Wuhan-Hu-1, complete genome',\n",
       " 'Severe acute respiratory syndrome coronavirus 2 isolate BetaCoV/Wuhan/IPBCAMS-WH-03/2019, complete genome',\n",
       " 'Severe acute respiratory syndrome coronavirus 2 isolate BetaCoV/Wuhan/IPBCAMS-WH-01/2019, complete genome',\n",
       " 'Severe acute respiratory syndrome coronavirus 2 isolate WIV04, complete genome',\n",
       " 'Severe acute respiratory syndrome coronavirus 2 isolate SARS-CoV-2/Yunnan-01/human/2020/CHN, complete genome']"
      ]
     },
     "execution_count": 12,
     "metadata": {
      "tags": []
     },
     "output_type": "execute_result"
    }
   ],
   "source": [
    "[hit.description for hit in blast_qresult[:5]]"
   ]
  },
  {
   "cell_type": "markdown",
   "metadata": {
    "id": "UHPrRyuodwa2"
   },
   "source": [
    "Well that looks fairly conclusive, without doing any quantitative analyses, it's already very likely we have a coronavirus genome here, specifically SARS2-CoV-2 that was the cause of the COVID19 pandemic!"
   ]
  },
  {
   "cell_type": "markdown",
   "metadata": {
    "id": "mBi8W0npdwa2"
   },
   "source": [
    "Let's have a look at the first result in a bit more detail to check some of the alignment metrics"
   ]
  },
  {
   "cell_type": "code",
   "execution_count": null,
   "metadata": {
    "collapsed": true,
    "id": "-t7v2EfQdwa3"
   },
   "outputs": [],
   "source": [
    "first_hit = blast_qresult[0]"
   ]
  },
  {
   "cell_type": "code",
   "execution_count": null,
   "metadata": {
    "collapsed": false,
    "id": "zRJDtJOkdwa3",
    "outputId": "bb98bcdf-e97e-4e47-a92e-0550738d1d7b"
   },
   "outputs": [
    {
     "data": {
      "text/plain": [
       "'Wuhan seafood market pneumonia virus isolate Wuhan-Hu-1, complete genome'"
      ]
     },
     "execution_count": 14,
     "metadata": {
      "tags": []
     },
     "output_type": "execute_result"
    }
   ],
   "source": [
    "first_hit.description"
   ]
  },
  {
   "cell_type": "code",
   "execution_count": null,
   "metadata": {
    "collapsed": false,
    "id": "3Jnh6mfvdwa3",
    "outputId": "4c9c5403-0186-439c-8b5c-b07d2dd2a267"
   },
   "outputs": [
    {
     "name": "stdout",
     "output_type": "stream",
     "text": [
      "0.0 53927.4\n"
     ]
    }
   ],
   "source": [
    "first_hsp = first_hit[0]\n",
    "print(first_hsp.evalue, first_hsp.bitscore)"
   ]
  },
  {
   "cell_type": "code",
   "execution_count": null,
   "metadata": {
    "collapsed": false,
    "id": "eYoBdBpNdwa3",
    "outputId": "6d88d0d5-a792-4ed6-eb3c-e5e282b312f7"
   },
   "outputs": [
    {
     "name": "stdout",
     "output_type": "stream",
     "text": [
      "DNAAlphabet() alignment with 2 rows and 29903 columns\n",
      "ATTAAAGGTTTATACCTTCCCAGGTAACAAACCAACCAACTTTC...AAA No\n",
      "ATTAAAGGTTTATACCTTCCCAGGTAACAAACCAACCAACTTTC...AAA gi|1798174254|ref|NC_045512.2|\n"
     ]
    }
   ],
   "source": [
    "print(first_hsp.aln)"
   ]
  },
  {
   "cell_type": "markdown",
   "metadata": {
    "id": "vjPrhIjbdwa3"
   },
   "source": [
    "The alignment appears of high quality and not merely a spurious hit"
   ]
  },
  {
   "cell_type": "markdown",
   "metadata": {
    "id": "ZX7hbfqodwa4"
   },
   "source": [
    "We could view/save the full sequence alignment, for illustration purposes, here is just the first 100 characters in FASTA format"
   ]
  },
  {
   "cell_type": "code",
   "execution_count": null,
   "metadata": {
    "collapsed": false,
    "id": "A5NsX4vIdwa4",
    "outputId": "c5ea6d71-ea50-42db-9bca-5f5fe1c742c6"
   },
   "outputs": [
    {
     "name": "stdout",
     "output_type": "stream",
     "text": [
      ">No definition line\n",
      "ATTAAAGGTTTATACCTTCCCAGGTAACAAACCAACCAACTTTCGATCTCTTGTAGATCT\n",
      "GTTCTCTAAACGAACTTTA\n"
     ]
    }
   ],
   "source": [
    "print(first_hsp.aln.format(\"fasta\")[:100])"
   ]
  },
  {
   "cell_type": "markdown",
   "metadata": {
    "id": "WkpFdDM8dwa4"
   },
   "source": [
    "## Extract annotations on the matching genome sequence"
   ]
  },
  {
   "cell_type": "markdown",
   "metadata": {
    "id": "Ni4OGunCdwa4"
   },
   "source": [
    "Let's extract a bit more structured meta-data on the top matching sequence homologous sequence using NCBI Entrez via Biopython to extract a GenBank file"
   ]
  },
  {
   "cell_type": "code",
   "execution_count": null,
   "metadata": {
    "collapsed": false,
    "id": "SKU5zZlAdwa4",
    "outputId": "80a918be-06dd-46f3-b81c-94d75390bfc7"
   },
   "outputs": [
    {
     "data": {
      "text/plain": [
       "'NC_045512.2'"
      ]
     },
     "execution_count": 18,
     "metadata": {
      "tags": []
     },
     "output_type": "execute_result"
    }
   ],
   "source": [
    "NCBI_id = first_hit.id.split('|')[3]\n",
    "NCBI_id"
   ]
  },
  {
   "cell_type": "code",
   "execution_count": null,
   "metadata": {
    "collapsed": true,
    "id": "7B4QCUsPdwa4"
   },
   "outputs": [],
   "source": [
    "Entrez.email = \"A.N.Other@example.com\"  # Always tell NCBI who you are"
   ]
  },
  {
   "cell_type": "code",
   "execution_count": null,
   "metadata": {
    "collapsed": true,
    "id": "48nHFIODdwa4"
   },
   "outputs": [],
   "source": [
    "handle = Entrez.efetch(db=\"nucleotide\", id= NCBI_id, retmode=\"text\", rettype=\"gb\")"
   ]
  },
  {
   "cell_type": "code",
   "execution_count": null,
   "metadata": {
    "collapsed": true,
    "id": "UFHoFsK5dwa5"
   },
   "outputs": [],
   "source": [
    "genbank_record = SeqIO.read(handle, \"genbank\")"
   ]
  },
  {
   "cell_type": "code",
   "execution_count": null,
   "metadata": {
    "collapsed": false,
    "id": "1Ll0ReRBdwa5",
    "outputId": "0b088d93-11b5-4a44-a86c-7bb6d5f150a2"
   },
   "outputs": [
    {
     "data": {
      "text/plain": [
       "SeqRecord(seq=Seq('ATTAAAGGTTTATACCTTCCCAGGTAACAAACCAACCAACTTTCGATCTCTTGT...AAA', IUPACAmbiguousDNA()), id='NC_045512.2', name='NC_045512', description='Severe acute respiratory syndrome coronavirus 2 isolate Wuhan-Hu-1, complete genome', dbxrefs=['BioProject:PRJNA485481'])"
      ]
     },
     "execution_count": 22,
     "metadata": {
      "tags": []
     },
     "output_type": "execute_result"
    }
   ],
   "source": [
    "genbank_record"
   ]
  },
  {
   "cell_type": "markdown",
   "metadata": {
    "id": "qPoFd3Vodwa5"
   },
   "source": [
    "There's a lot of information in the genbank record if you know where to find it..."
   ]
  },
  {
   "cell_type": "code",
   "execution_count": null,
   "metadata": {
    "collapsed": false,
    "id": "XIGfCRk4dwa5",
    "outputId": "16fadd32-b634-42b3-b6ac-f1c728947ded"
   },
   "outputs": [
    {
     "name": "stdout",
     "output_type": "stream",
     "text": [
      "Is it single or double stranded and a DNA or RNA virus?\n",
      " ss-RNA\n"
     ]
    }
   ],
   "source": [
    "print(\"Is it single or double stranded and a DNA or RNA virus?\\n\",\n",
    "      genbank_record.annotations[\"molecule_type\"])"
   ]
  },
  {
   "cell_type": "code",
   "execution_count": null,
   "metadata": {
    "collapsed": false,
    "id": "3tRKK35kdwa6",
    "outputId": "c146bd96-ae39-45c0-a7e8-7da1fcd379dc"
   },
   "outputs": [
    {
     "name": "stdout",
     "output_type": "stream",
     "text": [
      "What is the full NCBI taxonomy of this virus?\n",
      " ['Viruses', 'Riboviria', 'Nidovirales', 'Cornidovirineae', 'Coronaviridae', 'Orthocoronavirinae', 'Betacoronavirus', 'Sarbecovirus']\n"
     ]
    }
   ],
   "source": [
    "print(\"What is the full NCBI taxonomy of this virus?\\n\",\n",
    "      genbank_record.annotations[\"taxonomy\"])"
   ]
  },
  {
   "cell_type": "code",
   "execution_count": null,
   "metadata": {
    "collapsed": false,
    "id": "yR06L__5dwa7",
    "outputId": "c9eb38da-5087-4520-c0eb-3f34ebaba8ea"
   },
   "outputs": [
    {
     "name": "stdout",
     "output_type": "stream",
     "text": [
      "What are the relevant references/labs who generated the data?\n",
      "\n",
      "location: [0:29903]\n",
      "authors: Wu,F., Zhao,S., Yu,B., Chen,Y.-M., Wang,W., Hu,Y., Song,Z.-G., Tao,Z.-W., Tian,J.-H., Pei,Y.-Y., Yuan,M.L., Zhang,Y.-L., Dai,F.-H., Liu,Y., Wang,Q.-M., Zheng,J.-J., Xu,L., Holmes,E.C. and Zhang,Y.-Z.\n",
      "title: A novel coronavirus associated with a respiratory disease in Wuhan of Hubei province, China\n",
      "journal: Unpublished\n",
      "medline id: \n",
      "pubmed id: \n",
      "comment: \n",
      "\n",
      "location: [0:29903]\n",
      "authors: \n",
      "consrtm: NCBI Genome Project\n",
      "title: Direct Submission\n",
      "journal: Submitted (17-JAN-2020) National Center for Biotechnology Information, NIH, Bethesda, MD 20894, USA\n",
      "medline id: \n",
      "pubmed id: \n",
      "comment: \n",
      "\n",
      "location: [0:29903]\n",
      "authors: Wu,F., Zhao,S., Yu,B., Chen,Y.-M., Wang,W., Hu,Y., Song,Z.-G., Tao,Z.-W., Tian,J.-H., Pei,Y.-Y., Yuan,M.L., Zhang,Y.-L., Dai,F.-H., Liu,Y., Wang,Q.-M., Zheng,J.-J., Xu,L., Holmes,E.C. and Zhang,Y.-Z.\n",
      "title: Direct Submission\n",
      "journal: Submitted (05-JAN-2020) Shanghai Public Health Clinical Center & School of Public Health, Fudan University, Shanghai, China\n",
      "medline id: \n",
      "pubmed id: \n",
      "comment: \n",
      "\n"
     ]
    }
   ],
   "source": [
    "print(\"What are the relevant references/labs who generated the data?\\n\")\n",
    "for reference in genbank_record.annotations[\"references\"]:\n",
    "    print(reference)"
   ]
  },
  {
   "cell_type": "markdown",
   "metadata": {
    "id": "hLyXmKzPdwa7"
   },
   "source": [
    "Now we can read up more about the virus and source data through following these references and appropriate google searches."
   ]
  },
  {
   "cell_type": "markdown",
   "metadata": {
    "id": "AxW1r1bWdwa7"
   },
   "source": [
    "Note that from this id, we could also find the [record here](https://www.ncbi.nlm.nih.gov/nuccore/NC_045512.2/) on the NCBI website."
   ]
  },
  {
   "cell_type": "markdown",
   "metadata": {
    "id": "KKufvvDidwa7"
   },
   "source": [
    "## Protein level analyses"
   ]
  },
  {
   "cell_type": "markdown",
   "metadata": {
    "id": "VjBwuorxdwa7"
   },
   "source": [
    "We might be interested in the gene/protein sequences, not just the entire genome. It is possible to retrieve the protein coding sequences (CDSs) from the Genbank record"
   ]
  },
  {
   "cell_type": "code",
   "execution_count": null,
   "metadata": {
    "collapsed": false,
    "id": "aWbsEMVTdwa7",
    "outputId": "d28c7781-0890-4ea1-bd3d-d35e0b7f5183"
   },
   "outputs": [
    {
     "data": {
      "text/plain": [
       "47"
      ]
     },
     "execution_count": 26,
     "metadata": {
      "tags": []
     },
     "output_type": "execute_result"
    }
   ],
   "source": [
    "len(genbank_record.features)"
   ]
  },
  {
   "cell_type": "code",
   "execution_count": null,
   "metadata": {
    "collapsed": false,
    "id": "XuDMBNi2dwa8",
    "outputId": "5ea5efad-b61c-4e8f-ccef-37f4d1955f6d"
   },
   "outputs": [
    {
     "data": {
      "text/plain": [
       "{\"3'UTR\", \"5'UTR\", 'CDS', 'gene', 'mat_peptide', 'source', 'stem_loop'}"
      ]
     },
     "execution_count": 27,
     "metadata": {
      "tags": []
     },
     "output_type": "execute_result"
    }
   ],
   "source": [
    "{feature.type for feature in genbank_record.features}"
   ]
  },
  {
   "cell_type": "code",
   "execution_count": null,
   "metadata": {
    "collapsed": false,
    "id": "dZqSP1c8dwa8",
    "outputId": "1c55b7ef-89e8-46a6-b239-e975fab8d9bf"
   },
   "outputs": [
    {
     "data": {
      "text/plain": [
       "12"
      ]
     },
     "execution_count": 28,
     "metadata": {
      "tags": []
     },
     "output_type": "execute_result"
    }
   ],
   "source": [
    "CDSs = [feature for feature in genbank_record.features if feature.type == \"CDS\"]\n",
    "len(CDSs)"
   ]
  },
  {
   "cell_type": "markdown",
   "metadata": {
    "id": "c9xUqWPKdwa8"
   },
   "source": [
    "Let's look at the first protein and extract the underlying sequence"
   ]
  },
  {
   "cell_type": "code",
   "execution_count": null,
   "metadata": {
    "collapsed": false,
    "id": "WjUlcC62dwa8",
    "outputId": "a9048d16-008c-426d-d357-9b622bc6e501"
   },
   "outputs": [
    {
     "data": {
      "text/plain": [
       "['orf1ab']"
      ]
     },
     "execution_count": 29,
     "metadata": {
      "tags": []
     },
     "output_type": "execute_result"
    }
   ],
   "source": [
    "CDSs[0].qualifiers[\"gene\"]"
   ]
  },
  {
   "cell_type": "code",
   "execution_count": null,
   "metadata": {
    "collapsed": true,
    "id": "nyDiLxYUdwa8"
   },
   "outputs": [],
   "source": [
    "protein_seq = Seq(CDSs[0].qualifiers[\"translation\"][0])"
   ]
  },
  {
   "cell_type": "code",
   "execution_count": null,
   "metadata": {
    "collapsed": false,
    "id": "Q3EWzLyCdwa8",
    "outputId": "9f312df1-0cf9-42ad-df30-6cd9f1139192"
   },
   "outputs": [
    {
     "data": {
      "text/plain": [
       "Seq('MESLVPGFNEKTHVQLSLPVLQVRDVLVRGFGDSVEEVLSEARQHLKDGTCGLV...VNN')"
      ]
     },
     "execution_count": 31,
     "metadata": {
      "tags": []
     },
     "output_type": "execute_result"
    }
   ],
   "source": [
    "protein_seq"
   ]
  },
  {
   "cell_type": "code",
   "execution_count": null,
   "metadata": {
    "collapsed": false,
    "id": "K53D71YBdwa8",
    "outputId": "dd2f7a80-d438-49f3-cf6a-9205c70058ec"
   },
   "outputs": [
    {
     "name": "stdout",
     "output_type": "stream",
     "text": [
      "Does the sequence begin with a start codon?\n",
      " True\n"
     ]
    }
   ],
   "source": [
    "print(\"Does the sequence begin with a start codon?\\n\",\n",
    "      protein_seq.startswith(\"M\"))"
   ]
  },
  {
   "cell_type": "markdown",
   "metadata": {
    "id": "NXj327dPdwa9"
   },
   "source": [
    "We can check roughly how this protein sequence relates to the underlying nucleotide sequence by looking at the DNA codon table."
   ]
  },
  {
   "cell_type": "code",
   "execution_count": null,
   "metadata": {
    "collapsed": false,
    "id": "e2addPUwdwa9",
    "outputId": "0cf7c43f-d753-40bf-c278-d3638c36a2eb"
   },
   "outputs": [
    {
     "name": "stdout",
     "output_type": "stream",
     "text": [
      "Table 1 Standard, SGC0\n",
      "\n",
      "  |  T      |  C      |  A      |  G      |\n",
      "--+---------+---------+---------+---------+--\n",
      "T | TTT F   | TCT S   | TAT Y   | TGT C   | T\n",
      "T | TTC F   | TCC S   | TAC Y   | TGC C   | C\n",
      "T | TTA L   | TCA S   | TAA Stop| TGA Stop| A\n",
      "T | TTG L(s)| TCG S   | TAG Stop| TGG W   | G\n",
      "--+---------+---------+---------+---------+--\n",
      "C | CTT L   | CCT P   | CAT H   | CGT R   | T\n",
      "C | CTC L   | CCC P   | CAC H   | CGC R   | C\n",
      "C | CTA L   | CCA P   | CAA Q   | CGA R   | A\n",
      "C | CTG L(s)| CCG P   | CAG Q   | CGG R   | G\n",
      "--+---------+---------+---------+---------+--\n",
      "A | ATT I   | ACT T   | AAT N   | AGT S   | T\n",
      "A | ATC I   | ACC T   | AAC N   | AGC S   | C\n",
      "A | ATA I   | ACA T   | AAA K   | AGA R   | A\n",
      "A | ATG M(s)| ACG T   | AAG K   | AGG R   | G\n",
      "--+---------+---------+---------+---------+--\n",
      "G | GTT V   | GCT A   | GAT D   | GGT G   | T\n",
      "G | GTC V   | GCC A   | GAC D   | GGC G   | C\n",
      "G | GTA V   | GCA A   | GAA E   | GGA G   | A\n",
      "G | GTG V   | GCG A   | GAG E   | GGG G   | G\n",
      "--+---------+---------+---------+---------+--\n"
     ]
    }
   ],
   "source": [
    "print(CodonTable.unambiguous_dna_by_id[1])"
   ]
  },
  {
   "cell_type": "markdown",
   "metadata": {
    "id": "lGkQHIEmdwa9"
   },
   "source": [
    "However, we can't perform an exact \"reverse translation\" of course, since several amino acids are produced by the same codon. Note that if instead we started with the nucleotide sequence, then we could use Biopython's `.transcribe()` and `.translate()` functions to convert sequences from DNA to RNA and DNA to protein respectively."
   ]
  },
  {
   "cell_type": "code",
   "execution_count": null,
   "metadata": {
    "collapsed": false,
    "id": "oi1EBeHodwa9",
    "outputId": "55a20fc9-c429-4660-b83b-9e895228ea48"
   },
   "outputs": [
    {
     "name": "stdout",
     "output_type": "stream",
     "text": [
      "Protein sequence length in amino acids 7096\n"
     ]
    }
   ],
   "source": [
    "print(\"Protein sequence length in amino acids\", len(protein_seq))"
   ]
  },
  {
   "cell_type": "markdown",
   "metadata": {
    "id": "cEmVO6N4dwa9"
   },
   "source": [
    "It is a long protein for a virus. Let's check the annotation"
   ]
  },
  {
   "cell_type": "code",
   "execution_count": null,
   "metadata": {
    "collapsed": false,
    "id": "dfpgO9_7dwa9",
    "outputId": "1fa9176b-95ff-4028-cf0e-9a0416cf3d12"
   },
   "outputs": [
    {
     "data": {
      "text/plain": [
       "['orf1ab polyprotein']"
      ]
     },
     "execution_count": 35,
     "metadata": {
      "tags": []
     },
     "output_type": "execute_result"
    }
   ],
   "source": [
    "CDSs[0].qualifiers[\"product\"]"
   ]
  },
  {
   "cell_type": "markdown",
   "metadata": {
    "id": "h4-IICP8dwa-"
   },
   "source": [
    "So it looks like this is a polyprotein, which explains why it is a relatively long protein. Polyproteins are a typical feature of some viral genomes where smaller proteins are joined together, providing a particular organization of the viral proteome."
   ]
  },
  {
   "cell_type": "markdown",
   "metadata": {
    "id": "EDv6dpfVdwa-"
   },
   "source": [
    "## What's next?"
   ]
  },
  {
   "cell_type": "markdown",
   "metadata": {
    "id": "1a9Z7TRodwa-"
   },
   "source": [
    "Logical next steps at the genome level might include building a multiple sequence alignment from many cornavirus genomes (checkout the Biopython wrapers/parsers for `Clustal` and `Mafft` and `Bio.Align`/`Bio.parirwise2` plus `Bio.AlignIO`), building a phylogeny with an external tool like [iq-tree](http://www.iqtree.org/) and then viewing the tree with `Bio.Phylo`, the [ete3 toolkit](http://etetoolkit.org/), or [Jalview](https://www.jalview.org/).\n",
    "\n",
    "Other protein level analyses could involve including building protein trees, annotating the proteins and vizulisation (e.g. `Bio.Graphics`), doing evolutionary rate analyses (e.g. `Bio.Phylo.PAML `), looking at protein structure, clustering and much more.\n",
    "\n",
    "These kind of analyses can provide useful biological and epidemiological information, very important for this coronavirus in an outbreak situation. For example, allowing tracking of how the outbreak spreads and indicating appropriate infection control measures, although caution in the inturpretation of results is always required. See [Nextstrain](https://nextstrain.org/ncov) for an excellent resource of this kind."
   ]
  },
  {
   "cell_type": "markdown",
   "metadata": {
    "id": "XjtHPyKddwa-"
   },
   "source": [
    "Note, there is tons of other functionality in Biopython, this is just a very small fraction of the modules, see [Peter Cock's Biopython workshop](https://github.com/peterjc/biopython_workshop) and the extensive [official tutorial documentation](http://biopython.org/DIST/docs/tutorial/Tutorial.html)."
   ]
  }
 ],
 "metadata": {
  "anaconda-cloud": {},
  "colab": {
   "name": "biopython-coronavirus-notebook.ipynb",
   "provenance": []
  },
  "kernelspec": {
   "display_name": "Python 3",
   "language": "python",
   "name": "python3"
  },
  "language_info": {
   "codemirror_mode": {
    "name": "ipython",
    "version": 3
   },
   "file_extension": ".py",
   "mimetype": "text/x-python",
   "name": "python",
   "nbconvert_exporter": "python",
   "pygments_lexer": "ipython3",
   "version": "3.5.2"
  }
 },
 "nbformat": 4,
 "nbformat_minor": 0
}
